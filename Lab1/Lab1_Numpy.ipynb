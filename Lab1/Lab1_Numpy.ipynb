{
 "cells": [
  {
   "cell_type": "markdown",
   "id": "65667e34",
   "metadata": {},
   "source": [
    "# Задание 1 "
   ]
  },
  {
   "cell_type": "markdown",
   "id": "2d88388f",
   "metadata": {},
   "source": [
    "Задайте матрицу А=$\\left( \\begin{matrix}\n",
    "   3.25 & -1.07 & 2.34  \\\\\n",
    "   10.1 & 0.25 & -4.78  \\\\\n",
    "   5.04 & -7.79 & 3.31  \\\\\n",
    "\\end{matrix} \\right)$\n"
   ]
  },
  {
   "cell_type": "markdown",
   "id": "fb87a5c1",
   "metadata": {},
   "source": [
    "# Задание 2"
   ]
  },
  {
   "cell_type": "markdown",
   "id": "f0c0f7e8",
   "metadata": {},
   "source": [
    "Найти матрицу, обратную к A."
   ]
  },
  {
   "cell_type": "markdown",
   "id": "34c36901",
   "metadata": {},
   "source": [
    "# Задание 3 "
   ]
  },
  {
   "cell_type": "markdown",
   "id": "03b613b5",
   "metadata": {},
   "source": [
    "Сгенерируйте матрицу В размером 3х3 со случайными элементами, равномерно распределенными на интервале от 0 до 1."
   ]
  },
  {
   "cell_type": "markdown",
   "id": "51fcaa63",
   "metadata": {},
   "source": [
    "# Задание 4"
   ]
  },
  {
   "cell_type": "markdown",
   "id": "6e0c8e6d",
   "metadata": {},
   "source": [
    "Выполните действия: $A+10\\cdot B$, $A\\cdot B$, ${{B}^{T}}$. "
   ]
  },
  {
   "cell_type": "markdown",
   "id": "9286b10e",
   "metadata": {},
   "source": [
    "# Задание 5"
   ]
  },
  {
   "cell_type": "markdown",
   "id": "0446eabd",
   "metadata": {},
   "source": [
    "Расположите элементы  матрицы А по возрастанию (по столбцам), определите максимальный и минимальный элементы  матрицы В, вычислите определитель матрицы В."
   ]
  },
  {
   "cell_type": "markdown",
   "id": "7bffe82f",
   "metadata": {},
   "source": [
    "# Задание 6"
   ]
  },
  {
   "cell_type": "markdown",
   "id": "f1d64f1c",
   "metadata": {},
   "source": [
    "Найти:$D=\\sin (A)+{{B}^{3/5}}$"
   ]
  },
  {
   "cell_type": "markdown",
   "id": "7fb2cb64",
   "metadata": {},
   "source": [
    "# Задание 7"
   ]
  },
  {
   "cell_type": "markdown",
   "id": "589e82f8",
   "metadata": {},
   "source": [
    "Задать массив С, используя операцию индексации и функцию ones:\n",
    "$\\left( \\begin{matrix}\n",
    "   1  \\\\\n",
    "   2.94  \\\\\n",
    "   -2.2  \\\\\n",
    "   0.1   \\\\   \n",
    "\\end{matrix} \\right)$"
   ]
  },
  {
   "cell_type": "markdown",
   "id": "4e322068",
   "metadata": {},
   "source": [
    "# Задание 8"
   ]
  },
  {
   "cell_type": "markdown",
   "id": "bcaa4bf8",
   "metadata": {},
   "source": [
    "Для двух векторов:\n",
    "С и b= {0.6; 3.2; -1.8, 0.05} найти меру косинусного сходства.\n"
   ]
  }
 ],
 "metadata": {
  "kernelspec": {
   "display_name": "Python 3 (ipykernel)",
   "language": "python",
   "name": "python3"
  },
  "language_info": {
   "codemirror_mode": {
    "name": "ipython",
    "version": 3
   },
   "file_extension": ".py",
   "mimetype": "text/x-python",
   "name": "python",
   "nbconvert_exporter": "python",
   "pygments_lexer": "ipython3",
   "version": "3.11.4"
  }
 },
 "nbformat": 4,
 "nbformat_minor": 5
}
