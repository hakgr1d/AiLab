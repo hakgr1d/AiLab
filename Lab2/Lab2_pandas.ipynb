{
 "cells": [
  {
   "cell_type": "markdown",
   "metadata": {
    "toc": true
   },
   "source": [
    "<h1>Table of Contents<span class=\"tocSkip\"></span></h1>\n",
    "<div class=\"toc\"><ul class=\"toc-item\"><li><span><a href=\"#-Домашняя-работа-№1\" data-toc-modified-id=\"-Домашняя-работа-№1-1\"><span class=\"toc-item-num\">1&nbsp;&nbsp;</span><center> Домашняя работа №1</center></a></span><ul class=\"toc-item\"><li><ul class=\"toc-item\"><li><span><a href=\"#Задание-1.\" data-toc-modified-id=\"Задание-1.-1.0.1\"><span class=\"toc-item-num\">1.0.1&nbsp;&nbsp;</span>Задание 1.</a></span><ul class=\"toc-item\"><li><span><a href=\"#Выберите-верный-пункт:\" data-toc-modified-id=\"Выберите-верный-пункт:-1.0.1.1\"><span class=\"toc-item-num\">1.0.1.1&nbsp;&nbsp;</span>Выберите верный пункт:</a></span></li></ul></li><li><span><a href=\"#Задание-2.\" data-toc-modified-id=\"Задание-2.-1.0.2\"><span class=\"toc-item-num\">1.0.2&nbsp;&nbsp;</span>Задание 2.</a></span><ul class=\"toc-item\"><li><span><a href=\"#Пояснения:\" data-toc-modified-id=\"Пояснения:-1.0.2.1\"><span class=\"toc-item-num\">1.0.2.1&nbsp;&nbsp;</span>Пояснения:</a></span></li></ul></li><li><span><a href=\"#Информация-для-последующих-заданий\" data-toc-modified-id=\"Информация-для-последующих-заданий-1.0.3\"><span class=\"toc-item-num\">1.0.3&nbsp;&nbsp;</span>Информация для последующих заданий</a></span></li></ul></li><li><span><a href=\"#Описание-данных\" data-toc-modified-id=\"Описание-данных-1.1\"><span class=\"toc-item-num\">1.1&nbsp;&nbsp;</span>Описание данных</a></span><ul class=\"toc-item\"><li><span><a href=\"#Таблица-transactions.csv\" data-toc-modified-id=\"Таблица-transactions.csv-1.1.1\"><span class=\"toc-item-num\">1.1.1&nbsp;&nbsp;</span>Таблица <code>transactions.csv</code></a></span></li><li><span><a href=\"#Таблица-gender_train.csv\" data-toc-modified-id=\"Таблица-gender_train.csv-1.1.2\"><span class=\"toc-item-num\">1.1.2&nbsp;&nbsp;</span>Таблица <code>gender_train.csv</code></a></span></li><li><span><a href=\"#Таблица-tr_mcc_codes.csv\" data-toc-modified-id=\"Таблица-tr_mcc_codes.csv-1.1.3\"><span class=\"toc-item-num\">1.1.3&nbsp;&nbsp;</span>Таблица <code>tr_mcc_codes.csv</code></a></span></li><li><span><a href=\"#Таблица-tr_types.csv\" data-toc-modified-id=\"Таблица-tr_types.csv-1.1.4\"><span class=\"toc-item-num\">1.1.4&nbsp;&nbsp;</span>Таблица <code>tr_types.csv</code></a></span></li><li><span><a href=\"#Задание-3.\" data-toc-modified-id=\"Задание-3.-1.1.5\"><span class=\"toc-item-num\">1.1.5&nbsp;&nbsp;</span>Задание 3.</a></span><ul class=\"toc-item\"><li><span><a href=\"#Выберите-все-верные-пункты:\" data-toc-modified-id=\"Выберите-все-верные-пункты:-1.1.5.1\"><span class=\"toc-item-num\">1.1.5.1&nbsp;&nbsp;</span>Выберите все верные пункты:</a></span></li></ul></li><li><span><a href=\"#Задание-4.\" data-toc-modified-id=\"Задание-4.-1.1.6\"><span class=\"toc-item-num\">1.1.6&nbsp;&nbsp;</span>Задание 4.</a></span></li><li><span><a href=\"#Задание-5.\" data-toc-modified-id=\"Задание-5.-1.1.7\"><span class=\"toc-item-num\">1.1.7&nbsp;&nbsp;</span>Задание 5.</a></span></li><li><span><a href=\"#Задание-6.\" data-toc-modified-id=\"Задание-6.-1.1.8\"><span class=\"toc-item-num\">1.1.8&nbsp;&nbsp;</span>Задание 6.</a></span></li><li><span><a href=\"#Задание-7.\" data-toc-modified-id=\"Задание-7.-1.1.9\"><span class=\"toc-item-num\">1.1.9&nbsp;&nbsp;</span>Задание 7.</a></span></li><li><span><a href=\"#Задание-8.\" data-toc-modified-id=\"Задание-8.-1.1.10\"><span class=\"toc-item-num\">1.1.10&nbsp;&nbsp;</span>Задание 8.</a></span><ul class=\"toc-item\"><li><span><a href=\"#Task-5:\" data-toc-modified-id=\"Task-5:-1.1.10.1\"><span class=\"toc-item-num\">1.1.10.1&nbsp;&nbsp;</span>Task 5:</a></span></li><li><span><a href=\"#Вопросы:\" data-toc-modified-id=\"Вопросы:-1.1.10.2\"><span class=\"toc-item-num\">1.1.10.2&nbsp;&nbsp;</span>Вопросы:</a></span></li><li><span><a href=\"#Task-6:\" data-toc-modified-id=\"Task-6:-1.1.10.3\"><span class=\"toc-item-num\">1.1.10.3&nbsp;&nbsp;</span>Task 6:</a></span></li><li><span><a href=\"#Вопросы:\" data-toc-modified-id=\"Вопросы:-1.1.10.4\"><span class=\"toc-item-num\">1.1.10.4&nbsp;&nbsp;</span>Вопросы:</a></span></li></ul></li></ul></li></ul></li></ul></div>"
   ]
  },
  {
   "cell_type": "markdown",
   "metadata": {},
   "source": [
    " # <center> Домашняя работа №1"
   ]
  },
  {
   "cell_type": "code",
   "execution_count": 1,
   "metadata": {
    "ExecuteTime": {
     "end_time": "2020-04-23T10:16:05.965275Z",
     "start_time": "2020-04-23T10:16:05.312704Z"
    }
   },
   "outputs": [],
   "source": [
    "import pandas as pd\n",
    "import numpy as np"
   ]
  },
  {
   "cell_type": "markdown",
   "metadata": {},
   "source": [
    "### Задание 1. \n",
    "\n",
    "По клиенту получены зашумленные данные (объект s типа Series) по его транзакциям. \n",
    "\n",
    "Для заданного ниже объекта s проделайте следующее:\n",
    "1. Создайте новый Series, значения которого совпадают со значениями s, а индексы - целочисленные значения от 4 до 15, не включая 15.  \n",
    "2. Выберите из s только целочисленные элементы и вычислите их дисперсию (2). (\\*)\n",
    "\n",
    "\n",
    "##### Пояснения:\n",
    "- Дисперсия рассчитывается с помощью функции из библиотеки numpy: np.var( , ddof=0) или встроенной в python функции: .var(ddof=1)"
   ]
  },
  {
   "cell_type": "code",
   "execution_count": 2,
   "metadata": {},
   "outputs": [
    {
     "name": "stdout",
     "output_type": "stream",
     "text": [
      "\n",
      "Новый Series:\n",
      "4         1\n",
      "5         5\n",
      "6       3.1\n",
      "7     hello\n",
      "8        -5\n",
      "9     -1000\n",
      "10    12.78\n",
      "11    world\n",
      "12     10.1\n",
      "13        !\n",
      "14       98\n",
      "dtype: object\n",
      "\n",
      " Дисперсия целочисленных элементов: 268751.0\n"
     ]
    }
   ],
   "source": [
    "s = pd.Series(data=['1', 5, 3.1, 'hello', -5, -1000, 12.78, 'world', 10.10, '!', 98], \n",
    "              index=range(6, 27, 2))\n",
    "\n",
    "# Создание нового series с индексами от 4 до 14\n",
    "new_s = pd.Series(s.values, index=range(4, 15))\n",
    "\n",
    "# Выбор целочисленных элементов и расчет дисперсии\n",
    "integer_values = s.loc[s.apply(lambda x: isinstance(x, int))]\n",
    "variance = np.var(integer_values, ddof=1)\n",
    "\n",
    "print(\"\\nНовый Series:\")\n",
    "print(new_s)\n",
    "print(\"\\n Дисперсия целочисленных элементов:\", variance)"
   ]
  },
  {
   "cell_type": "markdown",
   "metadata": {},
   "source": [
    "##### Задание 2. \n",
    "1. Сгенерируйте Series из 200 значений нормально распределённой СВ (np.random.normal).\n",
    "2. Возведите каждое значение серии в 3 степень, а значения индекса увеличьте в 5 раз. \n",
    "3. Ответьте на следующие вопросы: (\\*)\n",
    "    - 1) Выведите сумму элементов, строго меньших 2.5, имеющих нечётные значения индекса. \n",
    "    - 2) Выведите количество значений серии меньше нуля.\n",
    "\n",
    "#### Пояснения:\n",
    "(\\*) Не забудьте про фиксированный seed (его менять не нужно)!\n",
    " - Определенное значение seed нужно, чтобы ответы у всех выполняющих\n",
    "это задание были одинаковые и их можно было проверить (так как генерируются\n",
    "одинаковые series)."
   ]
  },
  {
   "cell_type": "code",
   "execution_count": 3,
   "metadata": {
    "ExecuteTime": {
     "end_time": "2020-04-23T10:18:35.713300Z",
     "start_time": "2020-04-23T10:18:35.710616Z"
    }
   },
   "outputs": [
    {
     "name": "stdout",
     "output_type": "stream",
     "text": [
      "сумма эл-тов, меньших 2.5, с нечет. индексами =   -48.9722276729037\n",
      "сколько значений меньше 0 =                        99\n"
     ]
    }
   ],
   "source": [
    "np.random.seed(242)\n",
    "\n",
    "# сгенерировать Series из 200 значений норм. расп. случ. размера\n",
    "s = pd.Series(np.random.normal(size=200))\n",
    "\n",
    "s = s ** 3\n",
    "\n",
    "s.index = s.index * 5\n",
    "\n",
    "# сумма эл-тов, меньших 2.5, с нечет. индексами\n",
    "sum_less_2_5 = s.loc[(s < 2.5) & (s.index % 2 != 0)].sum()\n",
    "\n",
    "# сколько значений меньше 0\n",
    "count_negative = (s < 0).sum()\n",
    "\n",
    "print(\"сумма эл-тов, меньших 2.5, с нечет. индексами =  \", sum_less_2_5)\n",
    "print(\"сколько значений меньше 0 =                       \", count_negative)"
   ]
  },
  {
   "cell_type": "markdown",
   "metadata": {},
   "source": [
    "### Информация для последующих заданий\n",
    "- Для всех последующих заданий будем использовать обезличенные транзакционные банковские данные. Для этого считайте в переменные tr_mcc_codes, tr_types, transactions и gender_train из одноимённых таблиц из папки data. Для таблицы transactions используйте только первые n=1000000 строк. Обратите внимание на разделители внутри каждого из файлов - они могут различаться!"
   ]
  },
  {
   "cell_type": "code",
   "execution_count": 4,
   "metadata": {
    "ExecuteTime": {
     "end_time": "2020-04-23T10:19:13.080203Z",
     "start_time": "2020-04-23T10:19:13.077711Z"
    }
   },
   "outputs": [],
   "source": [
    "### Type your code here\n"
   ]
  },
  {
   "cell_type": "markdown",
   "metadata": {},
   "source": [
    "## Описание данных\n",
    "### Таблица ```transactions.csv```\n",
    "##### Описание\n",
    "Таблица содержит историю транзакций клиентов банка за один год и три месяца.\n",
    "\n",
    "##### Формат данных\n",
    "\n",
    "```\n",
    "customer_id,tr_datetime,mcc_code,tr_type,amount,term_id\n",
    "111111,15 01:40:52,1111,1000,-5224,111111\n",
    "111112,15 15:18:32,3333,2000,-100,11122233\n",
    "...\n",
    "```\n",
    "##### Описание полей\n",
    "\n",
    " - ```customer_id``` — идентификатор клиента;\n",
    " - ```tr_datetime``` — день и время совершения транзакции (дни нумеруются с начала данных);\n",
    " - ```mcc_code``` — mcc-код транзакции;\n",
    " - ```tr_type``` — тип транзакции;\n",
    " - ```amount``` — сумма транзакции в условных единицах со знаком; ```+``` — начисление средств клиенту (приходная транзакция), ```-``` — списание средств (расходная транзакция);\n",
    " - ```term_id``` — идентификатор терминала;\n",
    "\n",
    "\n",
    "### Таблица ```gender_train.csv```\n",
    "\n",
    "##### Описание\n",
    "Данная таблица содержит информацию по полу для части клиентов, для которых он известен. Для остальных клиентов пол неизвестен.\n",
    "\n",
    "##### Формат данных\n",
    "```\n",
    "customer_id,gender\n",
    "111111,0\n",
    "111112,1\n",
    "...\n",
    "```\n",
    "\n",
    "##### Описание полей\n",
    " - ```customer_id``` — идентификатор клиента;\n",
    " - ```gender``` — пол клиента;\n",
    "\n",
    "### Таблица ```tr_mcc_codes.csv```\n",
    "\n",
    "##### Описание\n",
    "Данная таблица содержит описание mcc-кодов транзакций.\n",
    "\n",
    "##### Формат данных\n",
    "```\n",
    "mcc_code;mcc_description\n",
    "1000;словесное описание mcc-кода 1000\n",
    "2000;словесное описание mcc-кода 2000\n",
    "...\n",
    "```\n",
    "\n",
    "##### Описание полей\n",
    " - ```mcc_code``` – mcc-код транзакции;\n",
    " - ```mcc_description``` — описание mcc-кода транзакции.\n",
    "\n",
    "### Таблица ```tr_types.csv```\n",
    "\n",
    "##### Описание\n",
    "    Данная таблица содержит описание типов транзакций.\n",
    "\n",
    "##### Формат данных\n",
    "```\n",
    "tr_type;tr_description\n",
    "1000;словесное описание типа транзакции 1000\n",
    "2000;словесное описание типа транзакции 2000\n",
    "...\n",
    "```\n",
    "\n",
    "##### Описание полей\n",
    " - ```tr_type``` – тип транзакции;\n",
    " - ```tr_description``` — описание типа транзакции;"
   ]
  },
  {
   "cell_type": "markdown",
   "metadata": {},
   "source": [
    "### Задание 3.\n",
    "1. В датафрейме transactions задайте столбец  customer_id в качестве индекса.\n",
    "2. Выделите клиента с максимальной суммой транзакции (то есть с максимальным приходом на карту). (\\*)\n",
    "3. Найдите у него наиболее часто встречающийся модуль суммы приходов/расходов. (\\**)\n",
    "4. Выделите клиента с минимальной суммой транзакции.\n",
    "\n",
    "\n",
    "\n",
    "##### Пояснения:\n",
    "(\\*) Если у клиента были транзакции [-10000, 10, 0, -10], то максимумом будет являться значение 10. <br>\n",
    "(\\**) Если у клиента были транзакции [-10000, 10, 0, -10], то наиболее встречающийся модуль суммы транзакций равен 10, и встретился он 2 раза."
   ]
  },
  {
   "cell_type": "code",
   "execution_count": 5,
   "metadata": {
    "ExecuteTime": {
     "end_time": "2020-04-23T10:20:53.265495Z",
     "start_time": "2020-04-23T10:20:53.263208Z"
    },
    "scrolled": true
   },
   "outputs": [
    {
     "name": "stdout",
     "output_type": "stream",
     "text": [
      "Клиент с максимальной суммой транзакции: 26782922\n",
      "Самый часто встречающийся модуль суммы его транзакций 22459.16\n",
      "Клиент с минимальной суммой транзакции: 26782922\n"
     ]
    }
   ],
   "source": [
    "import pandas as pd\n",
    "\n",
    "transactions = pd.read_csv('../data/transactions.csv')\n",
    "\n",
    "transactions.set_index('customer_id', inplace=True)\n",
    "\n",
    "max_customer = transactions['amount'].idxmax()   ##КЛиент с макс суммой транз\n",
    "\n",
    "max_customer_transactions = transactions.loc[max_customer, 'amount'] \n",
    "max_customer_mode = max_customer_transactions.abs().mode().values[0] ## Модуль суммы его транзакций\n",
    "\n",
    "min_customer = transactions['amount'].idxmin()\n",
    "\n",
    "print(f\"Клиент с максимальной суммой транзакции: {max_customer}\")\n",
    "print(f\"Самый часто встречающийся модуль суммы его транзакций {max_customer_mode}\")\n",
    "print(f\"Клиент с минимальной суммой транзакции: {min_customer}\")\n",
    "\n",
    "##2. # idx_max()\n",
    "# transactions.iloc\n",
    "# transactions.loc\n",
    "\n",
    "## transactions.amount.idx_max\n",
    "\n",
    "##3. ## mode()\n",
    "\n",
    "##4. ## idx_min()"
   ]
  },
  {
   "cell_type": "markdown",
   "metadata": {},
   "source": [
    "### Задание 4.\n",
    "1. Найдите максимальную разницу между медианами суммы транзакций, посчитанными при заданных ниже условиях по полю amount из таблицы transactions (\\*):\n",
    "    - Медиана суммы транзакций\n",
    "    - Медиана суммы транзакций по тем строкам, которые ни в одном из своих столбцов не содержат пустые значения\n",
    "    - Медиана суммы транзакций по строкам, отсортированным по полю amount в порядке убывания, и из которых удалены дублирующиеся по столбцам [mcc_code, tr_type] строки, причём при удалении соответстующих дублей остаются только первые из дублирующихся строк\n",
    "\n",
    "\n",
    "\n",
    "##### Пояснения:\n",
    "(\\*) Для вычисления максимальной разницы между значениями списка можно использовать функцию np.ptp  \n",
    "(\\**) Если в результате получились значения [1,3,5], то макимальная разница между ними 4 == 5-1."
   ]
  },
  {
   "cell_type": "code",
   "execution_count": 9,
   "metadata": {
    "ExecuteTime": {
     "end_time": "2020-04-23T10:20:53.265495Z",
     "start_time": "2020-04-23T10:20:53.263208Z"
    },
    "scrolled": true
   },
   "outputs": [
    {
     "name": "stdout",
     "output_type": "stream",
     "text": [
      "Максимальная разница между медианами суммы транзакций: 5366.61\n"
     ]
    }
   ],
   "source": [
    "### Type your code here\n",
    "median = transactions.amount.median() ##медиана суммы транзакций:\n",
    "\n",
    "non_empty_rows = transactions.dropna()            ##\n",
    "median_non_empty = non_empty_rows.amount.median() ## то же самое, но без пустых значений\n",
    "\n",
    "sorted_unique_rows = transactions.sort_values('amount', ascending=False).drop_duplicates(subset=['mcc_code', 'tr_type'])\n",
    "median_sorted_unique = sorted_unique_rows.amount.median() #то что описано в 3 пункте\n",
    "\n",
    "max_difference = np.ptp([median_all, median_non_empty, median_sorted_unique]) #максиальная разница между ними\n",
    "\n",
    "print(f\"Максимальная разница между медианами суммы транзакций: {max_difference}\")"
   ]
  },
  {
   "cell_type": "markdown",
   "metadata": {},
   "source": [
    "### Задание 5.\n",
    "Соедините transactions со всеми остальными таблицами (tr_mcc_codes, tr_types, gender_train). Причём с customers_gender_train необходимо смёрджиться с помощью left join, а с оставшимися датафреймами - через inner.\n",
    "После получения результата таблицы gender_train, tr_types, tr_mcc_codes можно удалить. В результате соединения датафреймов должно получиться 999584 строки."
   ]
  },
  {
   "cell_type": "code",
   "execution_count": 21,
   "metadata": {
    "ExecuteTime": {
     "end_time": "2020-04-23T10:26:27.618399Z",
     "start_time": "2020-04-23T10:26:27.615930Z"
    }
   },
   "outputs": [
    {
     "name": "stdout",
     "output_type": "stream",
     "text": [
      "Done!\n"
     ]
    }
   ],
   "source": [
    "### Type your code here\n",
    "# Загрузка таблицы tr_types с разделителем ';'\n",
    "tr_types = pd.read_csv('../data/tr_types.csv', sep=';')\n",
    "\n",
    "# Загрузка таблицы tr_mcc_codes с разделителем ';'\n",
    "tr_mcc_codes = pd.read_csv('../data/tr_mcc_codes.csv', sep=';')\n",
    "\n",
    "gender_train = pd.read_csv('../data/gender_train.csv')\n",
    "\n",
    "# Выполнение объединения transactions с tr_mcc_codes и tr_types через inner join\n",
    "merged_inner = pd.merge(transactions, tr_mcc_codes, left_on='mcc_code', right_on='mcc_code', how='inner')\n",
    "merged_inner = pd.merge(merged_inner, tr_types, left_on='tr_type', right_on='tr_type', how='inner')\n",
    "\n",
    "# Выполнение объединения transactions с gender_train через left join\n",
    "merged_left = pd.merge(transactions, gender_train, left_on='customer_id', right_on='customer_id', how='left')\n",
    "\n",
    "merged_inner.to_csv('merged_inner.csv', index=False)\n",
    "merged_left.to_csv('merged_left.csv', index=False)\n",
    "print('Done!')"
   ]
  },
  {
   "cell_type": "markdown",
   "metadata": {},
   "source": [
    "### Задание 6.\n",
    "1. Определите модуль разницы между медианными тратами женщин и мужчин (трата - отрицательное значение amount). \n",
    "\n",
    "\n",
    "\n",
    "##### Пояснения:\n",
    "\n",
    "\n",
    "(\\**) Обратите внимание, что для вычисления модуля разности точных знаний о том,  \n",
    "какой класc относится к мужчинам, а какой - к женщинам, пока не требуется.\n"
   ]
  },
  {
   "cell_type": "code",
   "execution_count": 6,
   "metadata": {
    "ExecuteTime": {
     "end_time": "2020-04-23T10:35:27.760136Z",
     "start_time": "2020-04-23T10:35:27.757599Z"
    }
   },
   "outputs": [
    {
     "name": "stdout",
     "output_type": "stream",
     "text": [
      "модуль разницы между медианными тратами женщин и мужчин = 1978.4300000000012\n"
     ]
    }
   ],
   "source": [
    "### Type your code here\n",
    "### взять где amount меньше \n",
    "### сохранить по \n",
    "### \n",
    "import pandas as pd\n",
    "merged_left = pd.read_csv('merged_left.csv')\n",
    "filtered = merged_left[merged_left['amount'] < 0]  #фильтрация строк с отрицательным amount\n",
    "grouped = filtered.groupby('gender')['amount'].median() ##группировка по полю gender\n",
    "difference = abs(grouped[0] - grouped[1])  ## модуль разницы между медианами\n",
    "print(f\"модуль разницы между медианными тратами женщин и мужчин = {difference}\")"
   ]
  },
  {
   "cell_type": "markdown",
   "metadata": {},
   "source": [
    "### Задание 7.\n",
    "1. По всем типам транзакций рассчитайте максимальную сумму прихода на карту (из строго положительных сумм по столбцу amount) отдельно для мужчин и женщин (назовите ее \"max_income\"). Оставьте по 10 транзакций для мужчин и для женщин, наибольших среди всех транзакций по полученным значениям \"max_income\". (\\*)\n",
    "2. Выведите те, которые встречаются одновременно и у мужчин, и у женщин.\n"
   ]
  },
  {
   "cell_type": "code",
   "execution_count": 2,
   "metadata": {
    "ExecuteTime": {
     "end_time": "2020-04-23T10:36:36.494729Z",
     "start_time": "2020-04-23T10:36:36.492051Z"
    }
   },
   "outputs": [
    {
     "name": "stderr",
     "output_type": "stream",
     "text": [
      "C:\\Users\\user\\AppData\\Local\\Temp\\ipykernel_7284\\2536460680.py:6: DtypeWarning: Columns (5) have mixed types. Specify dtype option on import or set low_memory=False.\n",
      "  merged_inner = pd.read_csv('merged_inner.csv')\n"
     ]
    },
    {
     "name": "stdout",
     "output_type": "stream",
     "text": [
      "Типы транзакций, которые встречаются одновременно у мужчин и женщин:\n",
      "7070\n",
      "7020\n",
      "7021\n",
      "7030\n",
      "7071\n",
      "7010\n",
      "7011\n",
      "7040\n"
     ]
    }
   ],
   "source": [
    "\n",
    "### Type your code here\n",
    "## в ответе только типы транзакций \n",
    "\n",
    "import pandas as pd\n",
    "merged_left = pd.read_csv('merged_left.csv')\n",
    "merged_inner = pd.read_csv('merged_inner.csv')\n",
    "\n",
    "# Расчет максимальной суммы прихода на карту для каждого типа транзакции и разделение по полу\n",
    "max_income_by_gender = merged_left[merged_left['amount'] > 0].groupby(['gender', 'tr_type'])['amount'].max()\n",
    "\n",
    "# Получение топ-10 транзакций с максимальной суммой прихода для мужчин и женщин\n",
    "top_10_transactions_male = max_income_by_gender.loc[1].nlargest(10)\n",
    "top_10_transactions_female = max_income_by_gender.loc[0].nlargest(10)\n",
    "\n",
    "# Получение типов транзакций, которые встречаются одновременно и у мужчин и у женщин\n",
    "common_transactions = top_10_transactions_male.index.intersection(top_10_transactions_female.index)\n",
    "\n",
    "# Вывод результатов\n",
    "print(\"Типы транзакций, которые встречаются одновременно у мужчин и женщин:\")\n",
    "for transaction_type in common_transactions:\n",
    "    print(transaction_type)"
   ]
  },
  {
   "cell_type": "markdown",
   "metadata": {},
   "source": [
    "### Задание 8.\n",
    "1. Выделите из поля tr_datetime относительный день tr_day (первое число до точного времени). (\\*)\n",
    "2. Отфильтруйте строки таким образом, чтобы оставить только те транзакции, у которых в соответствующий относительный день tr_day количество уникальных MCC кодов при транзакциях было больше 75 (можно воспользоваться функцией nunique())\n",
    "3. Сгруппируйте полученный отфильтрованный датафрейм по MCC коду и полу, после чего, пронализировав результат, выберите верные варианты ответов ниже (\\**): \n",
    "    - 1) gender == 0 - женщины, gender == 1 - мужчины\n",
    "    - 2) gender == 1 - женщины, gender == 0 - мужчины\n",
    "    - 3) Абсолютное значение медианы с типом \"Флористика\" (расходов/приходов) у мужчин выше той же медианы у женщин\n",
    "    - 4) Абсолютное значение медианы женских трат (расходов/приходов) на ценные бумаги выше мужских\n",
    "    - 5) Абсолютное значение медианы женских трат (расходов/приходов) в категории \"Бары, коктейль-бары, дискотеки, ночные клубы и таверны — места продажи алкогольных напитков\" ниже мужских\n",
    "    \n",
    "##### Пояснения:\n",
    "(\\*) Для того, чтобы выделить всё, что стоит до первого пробела, можно использовать строковые методы для датафрейма - .str.split(), например. \n",
    "(\\**) Понять, какой класс к какому типу транзакций (мужские/женские) относится можно, если поизучать типичные для мужчин/женщин категории и сравнить средние/медианы расходов и/или приходов в них.<br>\n",
    "Снять ограничение на количество выводимых строк можно с помощью:\n",
    "with pd.option_context('display.max_rows', None, 'display.max_columns', None):  \n",
    "    print(a)"
   ]
  },
  {
   "cell_type": "code",
   "execution_count": 2,
   "metadata": {},
   "outputs": [
    {
     "name": "stdout",
     "output_type": "stream",
     "text": [
      "mcc_code  gender\n",
      "742       0.0       14005.530\n",
      "          1.0       14531.075\n",
      "1711      0.0       91498.610\n",
      "          1.0       30656.750\n",
      "1731      0.0       12577.130\n",
      "                      ...    \n",
      "9311      1.0       11566.470\n",
      "9399      0.0       11903.350\n",
      "          1.0       11566.470\n",
      "9402      0.0        4512.380\n",
      "          1.0        3750.900\n",
      "Name: amount, Length: 367, dtype: float64\n"
     ]
    }
   ],
   "source": [
    "### Type your code here\n",
    "#m.unic()\n",
    "#transform\n",
    "#вывести итоговый датафреййм после фильтрации\n",
    "# Вид ответа для примера: mcc code - gender_code -3656 \n",
    "#\n",
    "import pandas as pd\n",
    "\n",
    "# Загрузка таблицы merged_left\n",
    "merged_left = pd.read_csv('merged_left.csv')\n",
    "\n",
    "# Выделение относительного дня из поля tr_datetime\n",
    "merged_left['tr_day'] = merged_left['tr_datetime'].str.split().str[0]\n",
    "\n",
    "# Фильтрация строк по количеству уникальных MCC кодов в относительном дне\n",
    "filtered_df = merged_left.groupby('tr_day').filter(lambda x: x['mcc_code'].nunique() > 75)\n",
    "\n",
    "# Группировка по MCC коду и полу\n",
    "grouped_df = filtered_df.groupby(['mcc_code', 'gender'])\n",
    "\n",
    "# Анализ результатов\n",
    "result = grouped_df['amount'].median().abs()\n",
    "print(result)"
   ]
  },
  {
   "cell_type": "code",
   "execution_count": null,
   "metadata": {},
   "outputs": [],
   "source": []
  }
 ],
 "metadata": {
  "hide_input": false,
  "kernelspec": {
   "display_name": "Python 3 (ipykernel)",
   "language": "python",
   "name": "python3"
  },
  "language_info": {
   "codemirror_mode": {
    "name": "ipython",
    "version": 3
   },
   "file_extension": ".py",
   "mimetype": "text/x-python",
   "name": "python",
   "nbconvert_exporter": "python",
   "pygments_lexer": "ipython3",
   "version": "3.12.0"
  },
  "toc": {
   "base_numbering": 1,
   "nav_menu": {
    "height": "254px",
    "width": "250px"
   },
   "number_sections": true,
   "sideBar": true,
   "skip_h1_title": false,
   "title_cell": "Table of Contents",
   "title_sidebar": "Contents",
   "toc_cell": true,
   "toc_position": {},
   "toc_section_display": true,
   "toc_window_display": true
  },
  "varInspector": {
   "cols": {
    "lenName": 16,
    "lenType": 16,
    "lenVar": 40
   },
   "kernels_config": {
    "python": {
     "delete_cmd_postfix": "",
     "delete_cmd_prefix": "del ",
     "library": "var_list.py",
     "varRefreshCmd": "print(var_dic_list())"
    },
    "r": {
     "delete_cmd_postfix": ") ",
     "delete_cmd_prefix": "rm(",
     "library": "var_list.r",
     "varRefreshCmd": "cat(var_dic_list()) "
    }
   },
   "types_to_exclude": [
    "module",
    "function",
    "builtin_function_or_method",
    "instance",
    "_Feature"
   ],
   "window_display": false
  }
 },
 "nbformat": 4,
 "nbformat_minor": 4
}
